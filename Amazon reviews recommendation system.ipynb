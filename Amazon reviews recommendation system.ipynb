{
 "cells": [
  {
   "cell_type": "markdown",
   "metadata": {},
   "source": [
    "# Please upvote if you like this kernel\n"
   ]
  },
  {
   "cell_type": "markdown",
   "metadata": {},
   "source": [
    "# Recommendation System Project\n"
   ]
  },
  {
   "cell_type": "markdown",
   "metadata": {},
   "source": [
    "# Import Libraries "
   ]
  },
  {
   "cell_type": "code",
   "execution_count": 3,
   "metadata": {
    "_cell_guid": "b1076dfc-b9ad-4769-8c92-a6c4dae69d19",
    "_uuid": "8f2839f25d086af736a60e9eeb907d3b93b6e0e5",
    "trusted": true
   },
   "outputs": [
    {
     "name": "stdout",
     "output_type": "stream",
     "text": [
      "/kaggle/input/amazon-product-reviews/ratings_Electronics (1).csv\n"
     ]
    }
   ],
   "source": [
    "\n",
    "#importing necessary Libraries \n",
    "\n",
    "#working with data\n",
    "import numpy as np\n",
    "import pandas as pd\n",
    "import matplotlib.pyplot as plt\n",
    "import seaborn as sns\n",
    "\n",
    "from sklearn import model_selection\n",
    "\n",
    "\n",
    "import sklearn \n",
    "from sklearn.decomposition import TruncatedSVD\n",
    "from sklearn.neighbors import KNeighborsClassifier\n",
    "\n",
    "from collections import defaultdict\n",
    "from surprise import SVD\n",
    "from surprise import KNNWithMeans\n",
    "from surprise import Dataset\n",
    "from surprise import accuracy\n",
    "from surprise import Reader\n",
    "from surprise.model_selection import train_test_split\n",
    "import os\n",
    "\n",
    "\n",
    "import warnings\n",
    "warnings.filterwarnings('ignore')\n",
    "\n",
    "%matplotlib inline\n",
    "for dirname, _, filenames in os.walk('/kaggle/input'):\n",
    "    for filename in filenames:\n",
    "        print(os.path.join(dirname, filename))\n",
    "\n",
    "# Any results you write to the current directory are saved as output."
   ]
  },
  {
   "cell_type": "markdown",
   "metadata": {},
   "source": [
    "### <font color='red'>Step 1 </font> Read and explore the given dataset"
   ]
  },
  {
   "cell_type": "code",
   "execution_count": 4,
   "metadata": {
    "trusted": true
   },
   "outputs": [],
   "source": [
    "Data=pd.read_csv(\"/kaggle/input/amazon-product-reviews/ratings_Electronics (1).csv\",names=['UserId', 'ProductId','Rating','timestamp'])\n"
   ]
  },
  {
   "cell_type": "code",
   "execution_count": 5,
   "metadata": {
    "trusted": true
   },
   "outputs": [
    {
     "data": {
      "text/html": [
       "<div>\n",
       "<style scoped>\n",
       "    .dataframe tbody tr th:only-of-type {\n",
       "        vertical-align: middle;\n",
       "    }\n",
       "\n",
       "    .dataframe tbody tr th {\n",
       "        vertical-align: top;\n",
       "    }\n",
       "\n",
       "    .dataframe thead th {\n",
       "        text-align: right;\n",
       "    }\n",
       "</style>\n",
       "<table border=\"1\" class=\"dataframe\">\n",
       "  <thead>\n",
       "    <tr style=\"text-align: right;\">\n",
       "      <th></th>\n",
       "      <th>UserId</th>\n",
       "      <th>ProductId</th>\n",
       "      <th>Rating</th>\n",
       "      <th>timestamp</th>\n",
       "    </tr>\n",
       "  </thead>\n",
       "  <tbody>\n",
       "    <tr>\n",
       "      <th>0</th>\n",
       "      <td>AKM1MP6P0OYPR</td>\n",
       "      <td>0132793040</td>\n",
       "      <td>5.0</td>\n",
       "      <td>1365811200</td>\n",
       "    </tr>\n",
       "    <tr>\n",
       "      <th>1</th>\n",
       "      <td>A2CX7LUOHB2NDG</td>\n",
       "      <td>0321732944</td>\n",
       "      <td>5.0</td>\n",
       "      <td>1341100800</td>\n",
       "    </tr>\n",
       "    <tr>\n",
       "      <th>2</th>\n",
       "      <td>A2NWSAGRHCP8N5</td>\n",
       "      <td>0439886341</td>\n",
       "      <td>1.0</td>\n",
       "      <td>1367193600</td>\n",
       "    </tr>\n",
       "    <tr>\n",
       "      <th>3</th>\n",
       "      <td>A2WNBOD3WNDNKT</td>\n",
       "      <td>0439886341</td>\n",
       "      <td>3.0</td>\n",
       "      <td>1374451200</td>\n",
       "    </tr>\n",
       "    <tr>\n",
       "      <th>4</th>\n",
       "      <td>A1GI0U4ZRJA8WN</td>\n",
       "      <td>0439886341</td>\n",
       "      <td>1.0</td>\n",
       "      <td>1334707200</td>\n",
       "    </tr>\n",
       "  </tbody>\n",
       "</table>\n",
       "</div>"
      ],
      "text/plain": [
       "           UserId   ProductId  Rating   timestamp\n",
       "0   AKM1MP6P0OYPR  0132793040     5.0  1365811200\n",
       "1  A2CX7LUOHB2NDG  0321732944     5.0  1341100800\n",
       "2  A2NWSAGRHCP8N5  0439886341     1.0  1367193600\n",
       "3  A2WNBOD3WNDNKT  0439886341     3.0  1374451200\n",
       "4  A1GI0U4ZRJA8WN  0439886341     1.0  1334707200"
      ]
     },
     "execution_count": 5,
     "metadata": {},
     "output_type": "execute_result"
    }
   ],
   "source": [
    "# Display the data\n",
    "\n",
    "Data.head()\n"
   ]
  },
  {
   "cell_type": "code",
   "execution_count": 6,
   "metadata": {
    "trusted": true
   },
   "outputs": [
    {
     "data": {
      "text/plain": [
       "UserId        object\n",
       "ProductId     object\n",
       "Rating       float64\n",
       "timestamp      int64\n",
       "dtype: object"
      ]
     },
     "execution_count": 6,
     "metadata": {},
     "output_type": "execute_result"
    }
   ],
   "source": [
    "#checking datatypes of each column\n",
    "Data.dtypes"
   ]
  },
  {
   "cell_type": "code",
   "execution_count": 7,
   "metadata": {
    "trusted": true
   },
   "outputs": [
    {
     "name": "stdout",
     "output_type": "stream",
     "text": [
      "Data set contains \"7824482\" number of rows and \"4\" number of columns\n"
     ]
    }
   ],
   "source": [
    "#shape of data \n",
    "shape_Data = Data.shape\n",
    "print('Data set contains \"{x}\" number of rows and \"{y}\" number of columns' .format(x=shape_Data[0],y=shape_Data[1]))"
   ]
  },
  {
   "cell_type": "code",
   "execution_count": 8,
   "metadata": {
    "trusted": true
   },
   "outputs": [
    {
     "data": {
      "text/plain": [
       "<matplotlib.axes._subplots.AxesSubplot at 0x7fa35e43d750>"
      ]
     },
     "execution_count": 8,
     "metadata": {},
     "output_type": "execute_result"
    },
    {
     "data": {
      "image/png": "[encoded data removed]",
      "text/plain": [
       "<Figure size 432x288 with 1 Axes>"
      ]
     },
     "metadata": {
      "needs_background": "light"
     },
     "output_type": "display_data"
    }
   ],
   "source": [
    "#null check\n",
    "sns.heatmap(Data.isnull(),yticklabels=False,cbar=False,cmap='viridis')"
   ]
  },
  {
   "cell_type": "code",
   "execution_count": 9,
   "metadata": {
    "trusted": true
   },
   "outputs": [
    {
     "data": {
      "text/html": [
       "<div>\n",
       "<style scoped>\n",
       "    .dataframe tbody tr th:only-of-type {\n",
       "        vertical-align: middle;\n",
       "    }\n",
       "\n",
       "    .dataframe tbody tr th {\n",
       "        vertical-align: top;\n",
       "    }\n",
       "\n",
       "    .dataframe thead th {\n",
       "        text-align: right;\n",
       "    }\n",
       "</style>\n",
       "<table border=\"1\" class=\"dataframe\">\n",
       "  <thead>\n",
       "    <tr style=\"text-align: right;\">\n",
       "      <th></th>\n",
       "      <th>count</th>\n",
       "      <th>mean</th>\n",
       "      <th>std</th>\n",
       "      <th>min</th>\n",
       "      <th>25%</th>\n",
       "      <th>50%</th>\n",
       "      <th>75%</th>\n",
       "      <th>max</th>\n",
       "    </tr>\n",
       "  </thead>\n",
       "  <tbody>\n",
       "    <tr>\n",
       "      <th>Rating</th>\n",
       "      <td>7824482.0</td>\n",
       "      <td>4.012337e+00</td>\n",
       "      <td>1.380910e+00</td>\n",
       "      <td>1.0</td>\n",
       "      <td>3.000000e+00</td>\n",
       "      <td>5.000000e+00</td>\n",
       "      <td>5.000000e+00</td>\n",
       "      <td>5.000000e+00</td>\n",
       "    </tr>\n",
       "    <tr>\n",
       "      <th>timestamp</th>\n",
       "      <td>7824482.0</td>\n",
       "      <td>1.338178e+09</td>\n",
       "      <td>6.900426e+07</td>\n",
       "      <td>912729600.0</td>\n",
       "      <td>1.315354e+09</td>\n",
       "      <td>1.361059e+09</td>\n",
       "      <td>1.386115e+09</td>\n",
       "      <td>1.406074e+09</td>\n",
       "    </tr>\n",
       "  </tbody>\n",
       "</table>\n",
       "</div>"
      ],
      "text/plain": [
       "               count          mean           std          min           25%  \\\n",
       "Rating     7824482.0  4.012337e+00  1.380910e+00          1.0  3.000000e+00   \n",
       "timestamp  7824482.0  1.338178e+09  6.900426e+07  912729600.0  1.315354e+09   \n",
       "\n",
       "                    50%           75%           max  \n",
       "Rating     5.000000e+00  5.000000e+00  5.000000e+00  \n",
       "timestamp  1.361059e+09  1.386115e+09  1.406074e+09  "
      ]
     },
     "execution_count": 9,
     "metadata": {},
     "output_type": "execute_result"
    }
   ],
   "source": [
    "#Oveview of Data\n",
    "Data.describe().T"
   ]
  },
  {
   "cell_type": "code",
   "execution_count": 10,
   "metadata": {
    "trusted": true
   },
   "outputs": [
    {
     "name": "stdout",
     "output_type": "stream",
     "text": [
      "Total data \n",
      "--------------------------------------------------\n",
      "\n",
      "Total no of ratings : 7824482\n",
      "Total No of Users   : 4201696\n",
      "Total No of products  : 476002\n"
     ]
    }
   ],
   "source": [
    "print(\"Total data \")\n",
    "print(\"-\"*50)\n",
    "print(\"\\nTotal no of ratings :\",Data.shape[0])\n",
    "print(\"Total No of Users   :\", len(np.unique(Data['UserId'])))\n",
    "print(\"Total No of products  :\", len(np.unique(Data['ProductId'])))\n"
   ]
  },
  {
   "cell_type": "markdown",
   "metadata": {
    "trusted": true
   },
   "source": [
    "#### Data Understanding\n",
    "1. There is no MISSING data <br>\n",
    "2. There are 4 Attributes - *UserId*, *ProductId* are object *Rating* is Integer while *Timestamp* is float <br>\n",
    "3. Rating lies between 1-5"
   ]
  },
  {
   "cell_type": "code",
   "execution_count": 11,
   "metadata": {
    "trusted": true
   },
   "outputs": [
    {
     "data": {
      "text/plain": [
       "[Text(0, 0.5, 'Count'), Text(0.5, 0, 'Rating')]"
      ]
     },
     "execution_count": 11,
     "metadata": {},
     "output_type": "execute_result"
    },
    {
     "data": {
      "image/png": "[encoded data removed]",
      "text/plain": [
       "<Figure size 864x432 with 1 Axes>"
      ]
     },
     "metadata": {},
     "output_type": "display_data"
    }
   ],
   "source": [
    "# Rating frequency\n",
    "\n",
    "sns.set(rc={'figure.figsize': (12, 6)})\n",
    "sns.set_style('whitegrid')\n",
    "ax = sns.countplot(x='Rating', data=Data)\n",
    "ax.set(xlabel='Rating', ylabel='Count')"
   ]
  },
  {
   "cell_type": "markdown",
   "metadata": {},
   "source": [
    "* most User Rated 5"
   ]
  },
  {
   "cell_type": "code",
   "execution_count": 12,
   "metadata": {
    "trusted": true
   },
   "outputs": [
    {
     "data": {
      "text/plain": [
       "ProductId\n",
       "0132793040    5.000000\n",
       "0321732944    5.000000\n",
       "0439886341    1.666667\n",
       "0511189877    4.500000\n",
       "0528881469    2.851852\n",
       "Name: Rating, dtype: float64"
      ]
     },
     "execution_count": 12,
     "metadata": {},
     "output_type": "execute_result"
    }
   ],
   "source": [
    "# let's check what is on avarage rating of each product\n",
    "Rating_prod = Data.groupby('ProductId')['Rating'].mean()\n",
    "Rating_prod.head()"
   ]
  },
  {
   "cell_type": "code",
   "execution_count": 13,
   "metadata": {
    "trusted": true
   },
   "outputs": [
    {
     "data": {
      "text/plain": [
       "<matplotlib.axes._subplots.AxesSubplot at 0x7fa362d47690>"
      ]
     },
     "execution_count": 13,
     "metadata": {},
     "output_type": "execute_result"
    },
    {
     "data": {
      "image/png": "[encoded data removed]",
      "text/plain": [
       "<Figure size 864x432 with 1 Axes>"
      ]
     },
     "metadata": {},
     "output_type": "display_data"
    }
   ],
   "source": [
    "sns.distplot(Rating_prod, color=\"green\", kde=True)"
   ]
  },
  {
   "cell_type": "markdown",
   "metadata": {},
   "source": [
    "#### We can notice that large peak of rating \"5\", this may be because single user rating or some other kind of skewness."
   ]
  },
  {
   "cell_type": "code",
   "execution_count": 14,
   "metadata": {
    "trusted": true
   },
   "outputs": [
    {
     "data": {
      "text/plain": [
       "ProductId\n",
       "0132793040     1\n",
       "0321732944     1\n",
       "0439886341     3\n",
       "0511189877     6\n",
       "0528881469    27\n",
       "Name: Rating, dtype: int64"
      ]
     },
     "execution_count": 14,
     "metadata": {},
     "output_type": "execute_result"
    }
   ],
   "source": [
    "# let's check how many rating does a product have\n",
    "\n",
    "product_rating_count = Data.groupby('ProductId')['Rating'].count()\n",
    "product_rating_count.head()"
   ]
  },
  {
   "cell_type": "code",
   "execution_count": 15,
   "metadata": {
    "trusted": true
   },
   "outputs": [
    {
     "data": {
      "text/plain": [
       "<matplotlib.axes._subplots.AxesSubplot at 0x7fa36c1793d0>"
      ]
     },
     "execution_count": 15,
     "metadata": {},
     "output_type": "execute_result"
    },
    {
     "data": {
      "image/png": "[encoded data removed]",
      "text/plain": [
       "<Figure size 864x432 with 1 Axes>"
      ]
     },
     "metadata": {},
     "output_type": "display_data"
    }
   ],
   "source": [
    "sns.distplot(product_rating_count, color=\"red\", kde=True, bins=40)"
   ]
  },
  {
   "cell_type": "markdown",
   "metadata": {},
   "source": [
    "#### this shows that most items have around 0-100 rating, with some outliers such as product having more then 2000 rating"
   ]
  },
  {
   "cell_type": "code",
   "execution_count": 16,
   "metadata": {
    "trusted": true
   },
   "outputs": [
    {
     "data": {
      "text/plain": [
       "UserId\n",
       "A5JLAU2ARJ0BO     520\n",
       "ADLVFFE4VBT8      501\n",
       "A3OXHLG6DIBRW8    498\n",
       "A6FIAB28IS79      431\n",
       "A680RUE1FDO8B     406\n",
       "Name: Rating, dtype: int64"
      ]
     },
     "execution_count": 16,
     "metadata": {},
     "output_type": "execute_result"
    }
   ],
   "source": [
    "#Analysis of rating given by the user \n",
    "\n",
    "no_of_rated_products_per_user = Data.groupby(by='UserId')['Rating'].count().sort_values(ascending=False)\n",
    "no_of_rated_products_per_user.head()"
   ]
  },
  {
   "cell_type": "code",
   "execution_count": 17,
   "metadata": {
    "trusted": true
   },
   "outputs": [
    {
     "data": {
      "text/plain": [
       "<matplotlib.axes._subplots.AxesSubplot at 0x7fa36f336910>"
      ]
     },
     "execution_count": 17,
     "metadata": {},
     "output_type": "execute_result"
    },
    {
     "data": {
      "image/png": "[encoded data removed]",
      "text/plain": [
       "<Figure size 864x432 with 1 Axes>"
      ]
     },
     "metadata": {},
     "output_type": "display_data"
    }
   ],
   "source": [
    "sns.distplot(no_of_rated_products_per_user, color=\"Orange\", kde=True, bins=40)"
   ]
  },
  {
   "cell_type": "markdown",
   "metadata": {},
   "source": [
    "#### this shows that most user have rated just 1 item, with some outliers such as user rating more then 100 item."
   ]
  },
  {
   "cell_type": "markdown",
   "metadata": {},
   "source": [
    "### <font color='red'>Step 2 </font> Take a subset of the dataset to make it less sparse/ denser."
   ]
  },
  {
   "cell_type": "code",
   "execution_count": 18,
   "metadata": {
    "trusted": true
   },
   "outputs": [
    {
     "name": "stdout",
     "output_type": "stream",
     "text": [
      "Total 68.58735139334212 percent of User have just given rating once\n"
     ]
    }
   ],
   "source": [
    "# checking number of users how gave 1 rating rating only.\n",
    "user_1=no_of_rated_products_per_user[no_of_rated_products_per_user==1].count()\n",
    "#percentage of user who gave rating only one time are\n",
    "per = user_1/no_of_rated_products_per_user.count()\n",
    "print('Total {} percent of User have just given rating once'.format(per*100))"
   ]
  },
  {
   "cell_type": "code",
   "execution_count": 19,
   "metadata": {
    "trusted": true
   },
   "outputs": [
    {
     "name": "stdout",
     "output_type": "stream",
     "text": [
      "\n",
      " Number of rated product more than 50 per user : 1540\n",
      "\n"
     ]
    }
   ],
   "source": [
    "print('\\n Number of rated product more than 50 per user : {}\\n'.format(sum(no_of_rated_products_per_user >= 50)) )"
   ]
  },
  {
   "cell_type": "code",
   "execution_count": 20,
   "metadata": {
    "trusted": true
   },
   "outputs": [],
   "source": [
    "#Getting the new dataframe which contains users who has given 50 or more ratings\n",
    "\n",
    "new_Data=Data.groupby(\"ProductId\").filter(lambda x:x['Rating'].count() >=50)"
   ]
  },
  {
   "cell_type": "code",
   "execution_count": 21,
   "metadata": {
    "trusted": true
   },
   "outputs": [
    {
     "data": {
      "text/html": [
       "<div>\n",
       "<style scoped>\n",
       "    .dataframe tbody tr th:only-of-type {\n",
       "        vertical-align: middle;\n",
       "    }\n",
       "\n",
       "    .dataframe tbody tr th {\n",
       "        vertical-align: top;\n",
       "    }\n",
       "\n",
       "    .dataframe thead th {\n",
       "        text-align: right;\n",
       "    }\n",
       "</style>\n",
       "<table border=\"1\" class=\"dataframe\">\n",
       "  <thead>\n",
       "    <tr style=\"text-align: right;\">\n",
       "      <th></th>\n",
       "      <th>UserId</th>\n",
       "      <th>ProductId</th>\n",
       "      <th>Rating</th>\n",
       "      <th>timestamp</th>\n",
       "    </tr>\n",
       "  </thead>\n",
       "  <tbody>\n",
       "    <tr>\n",
       "      <th>183</th>\n",
       "      <td>A1BKC6B7YHYTVV</td>\n",
       "      <td>0972683275</td>\n",
       "      <td>4.0</td>\n",
       "      <td>1405382400</td>\n",
       "    </tr>\n",
       "    <tr>\n",
       "      <th>184</th>\n",
       "      <td>AWVFSIB42LHKJ</td>\n",
       "      <td>0972683275</td>\n",
       "      <td>4.0</td>\n",
       "      <td>1405209600</td>\n",
       "    </tr>\n",
       "    <tr>\n",
       "      <th>185</th>\n",
       "      <td>A36MQBNADRH8YY</td>\n",
       "      <td>0972683275</td>\n",
       "      <td>5.0</td>\n",
       "      <td>1405641600</td>\n",
       "    </tr>\n",
       "    <tr>\n",
       "      <th>186</th>\n",
       "      <td>A3SRXMPLAEZ6DP</td>\n",
       "      <td>0972683275</td>\n",
       "      <td>4.0</td>\n",
       "      <td>1405987200</td>\n",
       "    </tr>\n",
       "    <tr>\n",
       "      <th>187</th>\n",
       "      <td>A20XXTXWF2TCPY</td>\n",
       "      <td>0972683275</td>\n",
       "      <td>5.0</td>\n",
       "      <td>1405123200</td>\n",
       "    </tr>\n",
       "  </tbody>\n",
       "</table>\n",
       "</div>"
      ],
      "text/plain": [
       "             UserId   ProductId  Rating   timestamp\n",
       "183  A1BKC6B7YHYTVV  0972683275     4.0  1405382400\n",
       "184   AWVFSIB42LHKJ  0972683275     4.0  1405209600\n",
       "185  A36MQBNADRH8YY  0972683275     5.0  1405641600\n",
       "186  A3SRXMPLAEZ6DP  0972683275     4.0  1405987200\n",
       "187  A20XXTXWF2TCPY  0972683275     5.0  1405123200"
      ]
     },
     "execution_count": 21,
     "metadata": {},
     "output_type": "execute_result"
    }
   ],
   "source": [
    "new_Data.head()"
   ]
  },
  {
   "cell_type": "code",
   "execution_count": 22,
   "metadata": {
    "trusted": true
   },
   "outputs": [
    {
     "data": {
      "text/plain": [
       "(5374313, 4)"
      ]
     },
     "execution_count": 22,
     "metadata": {},
     "output_type": "execute_result"
    }
   ],
   "source": [
    "new_Data.shape"
   ]
  },
  {
   "cell_type": "code",
   "execution_count": 23,
   "metadata": {
    "trusted": true
   },
   "outputs": [
    {
     "name": "stdout",
     "output_type": "stream",
     "text": [
      "we are taking 68.68586316640514 percent of data from Raw data for analysis\n"
     ]
    }
   ],
   "source": [
    "#percentage of data taken\n",
    "print('we are taking {} percent of data from Raw data for analysis'.format(new_Data['UserId'].count()/Data['UserId'].count()*100))"
   ]
  },
  {
   "cell_type": "code",
   "execution_count": 24,
   "metadata": {
    "trusted": true
   },
   "outputs": [],
   "source": [
    "#Dropping Unwanted Columns\n",
    "new_Data.drop('timestamp',inplace=True,axis=1)"
   ]
  },
  {
   "cell_type": "markdown",
   "metadata": {},
   "source": [
    "### <font color='red'>Step 3 </font> Build Popularity Recommender model."
   ]
  },
  {
   "cell_type": "code",
   "execution_count": 25,
   "metadata": {
    "trusted": true
   },
   "outputs": [],
   "source": [
    "#group by product and corresponding mean rating\n",
    "ratings_mean_count = pd.DataFrame(new_Data.groupby('ProductId')['Rating'].mean())\n",
    "ratings_mean_count['rating_counts'] = pd.DataFrame(new_Data.groupby('ProductId')['Rating'].count())"
   ]
  },
  {
   "cell_type": "code",
   "execution_count": 26,
   "metadata": {
    "trusted": true
   },
   "outputs": [
    {
     "data": {
      "text/plain": [
       "18244"
      ]
     },
     "execution_count": 26,
     "metadata": {},
     "output_type": "execute_result"
    }
   ],
   "source": [
    "#let's check for highest rating count\n",
    "ratings_mean_count['rating_counts'].max()"
   ]
  },
  {
   "cell_type": "code",
   "execution_count": 27,
   "metadata": {
    "trusted": true
   },
   "outputs": [
    {
     "data": {
      "text/plain": [
       "50"
      ]
     },
     "execution_count": 27,
     "metadata": {},
     "output_type": "execute_result"
    }
   ],
   "source": [
    "#let's check for highest rating count\n",
    "ratings_mean_count['rating_counts'].min()"
   ]
  },
  {
   "cell_type": "code",
   "execution_count": 28,
   "metadata": {
    "trusted": true
   },
   "outputs": [
    {
     "data": {
      "text/plain": [
       "<matplotlib.axes._subplots.AxesSubplot at 0x7fa35e709390>"
      ]
     },
     "execution_count": 28,
     "metadata": {},
     "output_type": "execute_result"
    },
    {
     "data": {
      "image/png": "[encoded data removed]",
      "text/plain": [
       "<Figure size 864x432 with 1 Axes>"
      ]
     },
     "metadata": {},
     "output_type": "display_data"
    }
   ],
   "source": [
    "#checking distribution of rating_counts\n",
    "sns.distplot(ratings_mean_count['rating_counts'],kde=False, bins=40)"
   ]
  },
  {
   "cell_type": "code",
   "execution_count": 29,
   "metadata": {
    "trusted": true
   },
   "outputs": [
    {
     "data": {
      "text/plain": [
       "<matplotlib.axes._subplots.AxesSubplot at 0x7fa37bbb7310>"
      ]
     },
     "execution_count": 29,
     "metadata": {},
     "output_type": "execute_result"
    },
    {
     "data": {
      "image/png": "[encoded data removed]",
      "text/plain": [
       "<Figure size 864x432 with 1 Axes>"
      ]
     },
     "metadata": {},
     "output_type": "display_data"
    }
   ],
   "source": [
    "#checking distribution of rating\n",
    "sns.distplot(ratings_mean_count['Rating'],kde=False, bins=40)"
   ]
  },
  {
   "cell_type": "code",
   "execution_count": 30,
   "metadata": {
    "trusted": true
   },
   "outputs": [
    {
     "data": {
      "text/html": [
       "<div>\n",
       "<style scoped>\n",
       "    .dataframe tbody tr th:only-of-type {\n",
       "        vertical-align: middle;\n",
       "    }\n",
       "\n",
       "    .dataframe tbody tr th {\n",
       "        vertical-align: top;\n",
       "    }\n",
       "\n",
       "    .dataframe thead th {\n",
       "        text-align: right;\n",
       "    }\n",
       "</style>\n",
       "<table border=\"1\" class=\"dataframe\">\n",
       "  <thead>\n",
       "    <tr style=\"text-align: right;\">\n",
       "      <th></th>\n",
       "      <th>Rating</th>\n",
       "      <th>rating_counts</th>\n",
       "    </tr>\n",
       "    <tr>\n",
       "      <th>ProductId</th>\n",
       "      <th></th>\n",
       "      <th></th>\n",
       "    </tr>\n",
       "  </thead>\n",
       "  <tbody>\n",
       "    <tr>\n",
       "      <th>B0074BW614</th>\n",
       "      <td>4.491504</td>\n",
       "      <td>18244</td>\n",
       "    </tr>\n",
       "    <tr>\n",
       "      <th>B00DR0PDNE</th>\n",
       "      <td>3.931020</td>\n",
       "      <td>16454</td>\n",
       "    </tr>\n",
       "    <tr>\n",
       "      <th>B007WTAJTO</th>\n",
       "      <td>4.424005</td>\n",
       "      <td>14172</td>\n",
       "    </tr>\n",
       "    <tr>\n",
       "      <th>B0019EHU8G</th>\n",
       "      <td>4.754497</td>\n",
       "      <td>12285</td>\n",
       "    </tr>\n",
       "    <tr>\n",
       "      <th>B006GWO5WK</th>\n",
       "      <td>4.314657</td>\n",
       "      <td>12226</td>\n",
       "    </tr>\n",
       "    <tr>\n",
       "      <th>B003ELYQGG</th>\n",
       "      <td>4.392528</td>\n",
       "      <td>11617</td>\n",
       "    </tr>\n",
       "    <tr>\n",
       "      <th>B003ES5ZUU</th>\n",
       "      <td>4.704749</td>\n",
       "      <td>10276</td>\n",
       "    </tr>\n",
       "    <tr>\n",
       "      <th>B007R5YDYA</th>\n",
       "      <td>4.690926</td>\n",
       "      <td>9907</td>\n",
       "    </tr>\n",
       "    <tr>\n",
       "      <th>B00622AG6S</th>\n",
       "      <td>4.420136</td>\n",
       "      <td>9823</td>\n",
       "    </tr>\n",
       "    <tr>\n",
       "      <th>B0002L5R78</th>\n",
       "      <td>4.448614</td>\n",
       "      <td>9487</td>\n",
       "    </tr>\n",
       "  </tbody>\n",
       "</table>\n",
       "</div>"
      ],
      "text/plain": [
       "              Rating  rating_counts\n",
       "ProductId                          \n",
       "B0074BW614  4.491504          18244\n",
       "B00DR0PDNE  3.931020          16454\n",
       "B007WTAJTO  4.424005          14172\n",
       "B0019EHU8G  4.754497          12285\n",
       "B006GWO5WK  4.314657          12226\n",
       "B003ELYQGG  4.392528          11617\n",
       "B003ES5ZUU  4.704749          10276\n",
       "B007R5YDYA  4.690926           9907\n",
       "B00622AG6S  4.420136           9823\n",
       "B0002L5R78  4.448614           9487"
      ]
     },
     "execution_count": 30,
     "metadata": {},
     "output_type": "execute_result"
    }
   ],
   "source": [
    "#Top 10 Product that would be recommended.\n",
    "popular=ratings_mean_count.sort_values(['rating_counts','Rating'], ascending=False)\n",
    "popular.head(10)"
   ]
  },
  {
   "cell_type": "code",
   "execution_count": 31,
   "metadata": {
    "trusted": true
   },
   "outputs": [
    {
     "data": {
      "text/plain": [
       "<matplotlib.axes._subplots.AxesSubplot at 0x7fa378956bd0>"
      ]
     },
     "execution_count": 31,
     "metadata": {},
     "output_type": "execute_result"
    },
    {
     "data": {
      "image/png": "[encoded data removed]",
      "text/plain": [
       "<Figure size 864x432 with 1 Axes>"
      ]
     },
     "metadata": {},
     "output_type": "display_data"
    }
   ],
   "source": [
    "#Top 30 Product that would be recommended.\n",
    "popular.head(30).plot(kind='bar')"
   ]
  },
  {
   "cell_type": "markdown",
   "metadata": {},
   "source": [
    "#### The above graph gives us the most popular products (arranged in descending order) sold by the business."
   ]
  },
  {
   "cell_type": "markdown",
   "metadata": {},
   "source": [
    "### <font color='red'>Step 4 </font>Split the data randomly into train and test dataset."
   ]
  },
  {
   "cell_type": "code",
   "execution_count": 32,
   "metadata": {
    "trusted": true
   },
   "outputs": [],
   "source": [
    "#Reading the dataset using Surprise package for Model Based Collaborative Filtering\n",
    "reader = Reader(rating_scale=(1, 5))\n",
    "data_reader_SVD = Dataset.load_from_df(new_Data,reader)\n",
    "#Splitting the dataset with 70% training and 30% testing using Surprise train_test_split\n",
    "trainset_SVD, testset_SVD = train_test_split(data_reader_SVD, test_size=.30)"
   ]
  },
  {
   "cell_type": "code",
   "execution_count": 33,
   "metadata": {
    "trusted": true
   },
   "outputs": [],
   "source": [
    "#Data Split for Memory Based Collaborative Filtering\n",
    "# we were going out of memory problem so lets take first 10lac record to Collaborative filtering process.\n",
    "# so splitting data in diffrent part to train them saparately \n",
    "# splitting data into 5 Equal parts of 1074862 record each\n",
    "reader = Reader(rating_scale=(1, 5))\n",
    "data_reader_1 = Dataset.load_from_df(new_Data.iloc[:1074862,0:],reader)\n",
    "data_reader_2 = Dataset.load_from_df(new_Data.iloc[1074862:2149725,0:],reader)\n",
    "data_reader_3 = Dataset.load_from_df(new_Data.iloc[2149725:3224586,0:],reader)\n",
    "data_reader_4 = Dataset.load_from_df(new_Data.iloc[3224586:4299448,0:],reader)\n",
    "data_reader_5 = Dataset.load_from_df(new_Data.iloc[4299448:,0:],reader)\n",
    "\n",
    "#Splitting the dataset with 70% training and 30% testing using Surprise train_test_split\n",
    "trainset_1, testset_1 = train_test_split(data_reader_1, test_size=.30)\n",
    "trainset_2, testset_2 = train_test_split(data_reader_2, test_size=.30)\n",
    "trainset_3, testset_3 = train_test_split(data_reader_3, test_size=.30)\n",
    "trainset_4, testset_4 = train_test_split(data_reader_4, test_size=.30)\n",
    "trainset_5, testset_5 = train_test_split(data_reader_5, test_size=.30)\n",
    "\n",
    "#holding all training set\n",
    "trainset=[trainset_1,trainset_2,trainset_3,trainset_4,trainset_5]\n",
    "#holding all testing set\n",
    "testset=[testset_1,testset_2,testset_3,testset_4,testset_5]"
   ]
  },
  {
   "cell_type": "markdown",
   "metadata": {},
   "source": [
    "### <font color='red'>Step 5 </font>Build Collaborative Filtering model \n",
    "#### Memory Based Collaborative Filtering"
   ]
  },
  {
   "cell_type": "markdown",
   "metadata": {},
   "source": [
    "* Collaborative filtering techniques aim to fill in the missing entries of a user-item association matrix.\n",
    "* We are going to use collaborative filtering approach. This is based on the idea that the best recommendations come from people who have similar tastes."
   ]
  },
  {
   "cell_type": "code",
   "execution_count": 34,
   "metadata": {
    "trusted": true
   },
   "outputs": [],
   "source": [
    "# Use user_based true/false to switch between user-based or item-based collaborative filtering\n",
    "algo = KNNWithMeans(k=50, sim_options={'name': 'pearson_baseline', 'user_based': False})"
   ]
  },
  {
   "cell_type": "code",
   "execution_count": 35,
   "metadata": {
    "trusted": true
   },
   "outputs": [
    {
     "name": "stdout",
     "output_type": "stream",
     "text": [
      "Estimating biases using als...\n",
      "Computing the pearson_baseline similarity matrix...\n",
      "Done computing similarity matrix.\n",
      "Estimating biases using als...\n",
      "Computing the pearson_baseline similarity matrix...\n",
      "Done computing similarity matrix.\n",
      "Estimating biases using als...\n",
      "Computing the pearson_baseline similarity matrix...\n",
      "Done computing similarity matrix.\n",
      "Estimating biases using als...\n",
      "Computing the pearson_baseline similarity matrix...\n",
      "Done computing similarity matrix.\n",
      "Estimating biases using als...\n",
      "Computing the pearson_baseline similarity matrix...\n",
      "Done computing similarity matrix.\n"
     ]
    }
   ],
   "source": [
    "#fitting all training set and storing testing results\n",
    "test=[]\n",
    "for item in range(5):\n",
    "    algo.fit(trainset[item])\n",
    "    test.append(algo.test(testset[item]))"
   ]
  },
  {
   "cell_type": "code",
   "execution_count": 36,
   "metadata": {
    "trusted": true
   },
   "outputs": [
    {
     "data": {
      "text/plain": [
       "[Prediction(uid='A3S0TY3548XQ1N', iid='B000RGG5GU', r_ui=4.0, est=3.0980392156862746, details={'actual_k': 0, 'was_impossible': False}),\n",
       " Prediction(uid='A15N48O6R2YXDP', iid='B00001P4XH', r_ui=5.0, est=4.0559128552119015, details={'was_impossible': True, 'reason': 'User and/or item is unknown.'}),\n",
       " Prediction(uid='A2OC5SGVVHTBDX', iid='B000VX6XL6', r_ui=5.0, est=4.0559128552119015, details={'was_impossible': True, 'reason': 'User and/or item is unknown.'}),\n",
       " Prediction(uid='A1FT9JS91P4C8U', iid='B0007U0GZM', r_ui=5.0, est=4.152777777777778, details={'actual_k': 0, 'was_impossible': False}),\n",
       " Prediction(uid='ABB6L6KGBUC7V', iid='B000P0PF8C', r_ui=5.0, est=4.0559128552119015, details={'was_impossible': True, 'reason': 'User and/or item is unknown.'})]"
      ]
     },
     "execution_count": 36,
     "metadata": {},
     "output_type": "execute_result"
    }
   ],
   "source": [
    "#checking prediction\n",
    "test[0][0:5]"
   ]
  },
  {
   "cell_type": "markdown",
   "metadata": {},
   "source": [
    "#### Model-based collaborative filtering system"
   ]
  },
  {
   "cell_type": "code",
   "execution_count": 37,
   "metadata": {
    "trusted": true
   },
   "outputs": [
    {
     "data": {
      "text/plain": [
       "<surprise.prediction_algorithms.matrix_factorization.SVD at 0x7fa37e6f3850>"
      ]
     },
     "execution_count": 37,
     "metadata": {},
     "output_type": "execute_result"
    }
   ],
   "source": [
    "algo_SVD = SVD()\n",
    "algo_SVD.fit(trainset_SVD)"
   ]
  },
  {
   "cell_type": "code",
   "execution_count": 38,
   "metadata": {
    "trusted": true
   },
   "outputs": [],
   "source": [
    "predictions_SVD = algo.test(testset_SVD)"
   ]
  },
  {
   "cell_type": "code",
   "execution_count": 39,
   "metadata": {
    "trusted": true
   },
   "outputs": [
    {
     "name": "stdout",
     "output_type": "stream",
     "text": [
      "RMSE: 1.2575\n"
     ]
    }
   ],
   "source": [
    "RMSE_SVD=accuracy.rmse(predictions_SVD, verbose=True)"
   ]
  },
  {
   "cell_type": "markdown",
   "metadata": {},
   "source": [
    "### <font color='red'>Step 6 </font>Evaluate both the models."
   ]
  },
  {
   "cell_type": "markdown",
   "metadata": {},
   "source": [
    "#### Evaluating Popularity based model"
   ]
  },
  {
   "cell_type": "code",
   "execution_count": 40,
   "metadata": {
    "trusted": true
   },
   "outputs": [
    {
     "data": {
      "text/html": [
       "<div>\n",
       "<style scoped>\n",
       "    .dataframe tbody tr th:only-of-type {\n",
       "        vertical-align: middle;\n",
       "    }\n",
       "\n",
       "    .dataframe tbody tr th {\n",
       "        vertical-align: top;\n",
       "    }\n",
       "\n",
       "    .dataframe thead th {\n",
       "        text-align: right;\n",
       "    }\n",
       "</style>\n",
       "<table border=\"1\" class=\"dataframe\">\n",
       "  <thead>\n",
       "    <tr style=\"text-align: right;\">\n",
       "      <th></th>\n",
       "      <th>Rating</th>\n",
       "      <th>rating_counts</th>\n",
       "    </tr>\n",
       "    <tr>\n",
       "      <th>ProductId</th>\n",
       "      <th></th>\n",
       "      <th></th>\n",
       "    </tr>\n",
       "  </thead>\n",
       "  <tbody>\n",
       "    <tr>\n",
       "      <th>B0074BW614</th>\n",
       "      <td>4.491504</td>\n",
       "      <td>18244</td>\n",
       "    </tr>\n",
       "    <tr>\n",
       "      <th>B00DR0PDNE</th>\n",
       "      <td>3.931020</td>\n",
       "      <td>16454</td>\n",
       "    </tr>\n",
       "    <tr>\n",
       "      <th>B007WTAJTO</th>\n",
       "      <td>4.424005</td>\n",
       "      <td>14172</td>\n",
       "    </tr>\n",
       "    <tr>\n",
       "      <th>B0019EHU8G</th>\n",
       "      <td>4.754497</td>\n",
       "      <td>12285</td>\n",
       "    </tr>\n",
       "    <tr>\n",
       "      <th>B006GWO5WK</th>\n",
       "      <td>4.314657</td>\n",
       "      <td>12226</td>\n",
       "    </tr>\n",
       "    <tr>\n",
       "      <th>B003ELYQGG</th>\n",
       "      <td>4.392528</td>\n",
       "      <td>11617</td>\n",
       "    </tr>\n",
       "    <tr>\n",
       "      <th>B003ES5ZUU</th>\n",
       "      <td>4.704749</td>\n",
       "      <td>10276</td>\n",
       "    </tr>\n",
       "    <tr>\n",
       "      <th>B007R5YDYA</th>\n",
       "      <td>4.690926</td>\n",
       "      <td>9907</td>\n",
       "    </tr>\n",
       "    <tr>\n",
       "      <th>B00622AG6S</th>\n",
       "      <td>4.420136</td>\n",
       "      <td>9823</td>\n",
       "    </tr>\n",
       "    <tr>\n",
       "      <th>B0002L5R78</th>\n",
       "      <td>4.448614</td>\n",
       "      <td>9487</td>\n",
       "    </tr>\n",
       "  </tbody>\n",
       "</table>\n",
       "</div>"
      ],
      "text/plain": [
       "              Rating  rating_counts\n",
       "ProductId                          \n",
       "B0074BW614  4.491504          18244\n",
       "B00DR0PDNE  3.931020          16454\n",
       "B007WTAJTO  4.424005          14172\n",
       "B0019EHU8G  4.754497          12285\n",
       "B006GWO5WK  4.314657          12226\n",
       "B003ELYQGG  4.392528          11617\n",
       "B003ES5ZUU  4.704749          10276\n",
       "B007R5YDYA  4.690926           9907\n",
       "B00622AG6S  4.420136           9823\n",
       "B0002L5R78  4.448614           9487"
      ]
     },
     "execution_count": 40,
     "metadata": {},
     "output_type": "execute_result"
    }
   ],
   "source": [
    "popular=ratings_mean_count.sort_values(['rating_counts','Rating'], ascending=False)\n",
    "popular.head(10)"
   ]
  },
  {
   "cell_type": "markdown",
   "metadata": {},
   "source": [
    "#### We can see top product i.e. B0074BW614 have rating 4.49 and number of user who gave rating to this product is 18244, which seems legit thus we can conclude we are getting expected result"
   ]
  },
  {
   "cell_type": "markdown",
   "metadata": {},
   "source": [
    "#### evaluating Collobarative filtering (memory based model)"
   ]
  },
  {
   "cell_type": "code",
   "execution_count": 41,
   "metadata": {
    "trusted": true
   },
   "outputs": [
    {
     "name": "stdout",
     "output_type": "stream",
     "text": [
      "Item-based Model : Test Set\n",
      "RMSE: 1.3349\n",
      "RMSE: 1.3804\n",
      "RMSE: 1.3601\n",
      "RMSE: 1.3063\n",
      "RMSE: 1.3184\n"
     ]
    }
   ],
   "source": [
    "# evaluating Collobarative filtering (memory based model)\n",
    "print(\"Item-based Model : Test Set\")\n",
    "RMSE = []\n",
    "Total_RMSE = 0\n",
    "for i in range(5):\n",
    "    RMSE.append(accuracy.rmse(test[i], verbose=True))\n",
    "    Total_RMSE = Total_RMSE + RMSE[i]"
   ]
  },
  {
   "cell_type": "code",
   "execution_count": 42,
   "metadata": {
    "trusted": true
   },
   "outputs": [
    {
     "name": "stdout",
     "output_type": "stream",
     "text": [
      "Avarage RMSE for Memory Based Collaborative Filtering of all TEST data is = 1.3400072301436208\n"
     ]
    }
   ],
   "source": [
    "#avarage RMSE\n",
    "print ('Avarage RMSE for Memory Based Collaborative Filtering of all TEST data is = {}'.format(Total_RMSE/5))"
   ]
  },
  {
   "cell_type": "markdown",
   "metadata": {},
   "source": [
    "#### Evaluating Collobarative filtering (Model based model)"
   ]
  },
  {
   "cell_type": "code",
   "execution_count": 43,
   "metadata": {
    "trusted": true
   },
   "outputs": [
    {
     "name": "stdout",
     "output_type": "stream",
     "text": [
      "Avarage RMSE for Model Based Collaborative Filtering of all TEST data is = 1.257503480536004\n"
     ]
    }
   ],
   "source": [
    "# evaluating Collobarative filtering (Model based model)\n",
    "print ('Avarage RMSE for Model Based Collaborative Filtering of all TEST data is = {}'.format(RMSE_SVD))\n"
   ]
  },
  {
   "cell_type": "markdown",
   "metadata": {},
   "source": [
    "### <font color='red'>Step 6 </font> Get top - K ( K = 5) recommendations."
   ]
  },
  {
   "cell_type": "code",
   "execution_count": 44,
   "metadata": {
    "trusted": true
   },
   "outputs": [],
   "source": [
    "#creating function to get top 5 Product Recommendation for each user.\n",
    "def get_top_n(predictions, n=5):\n",
    "    # First map the predictions to each user.\n",
    "    top_n = defaultdict(list)\n",
    "    for uid, iid, true_r, est, _ in predictions:\n",
    "        top_n[uid].append((iid, est))\n",
    "\n",
    "    # Then sort the predictions for each user and retrieve the k highest ones.\n",
    "    for uid, user_ratings in top_n.items():\n",
    "        user_ratings.sort(key=lambda x: x[1], reverse=True)\n",
    "        top_n[uid] = user_ratings[:n]\n",
    "\n",
    "    return top_n"
   ]
  },
  {
   "cell_type": "code",
   "execution_count": 45,
   "metadata": {
    "trusted": true
   },
   "outputs": [],
   "source": [
    "top_n = get_top_n(predictions_SVD, n=5)"
   ]
  },
  {
   "cell_type": "code",
   "execution_count": 46,
   "metadata": {
    "trusted": true
   },
   "outputs": [
    {
     "name": "stdout",
     "output_type": "stream",
     "text": [
      "A1DA3C4V9Y6TWX ['B007Q45EF4', 'B0002CZHN6', 'B005DKZTMG']\n",
      "A2FWY20HZ7RY3O ['B0073WAK8K']\n",
      "A20NRZH8TMYL4F ['B00BQ5KHJW']\n",
      "A3JRJWFRJ5KL2L ['B000IF4788']\n",
      "A1MENM4Y354FC6 ['B000H96IN2']\n",
      "A305JULLYTE0BQ ['B00B5J73J6']\n",
      "AUF6YC6JPDZJZ ['B00E4JEDWE']\n",
      "A13ZLDJRXK6R9U ['B000H859RE', 'B0011ZCDKS']\n",
      "A13MPUCB4P26UM ['B005YXXT7Y']\n",
      "A3JMHBT1YT2G6W ['B004P8FATE']\n",
      "AMS41Q2N4UA30 ['B005DOK8NW', 'B005PXMKI2']\n",
      "A1I002WK1LELAO ['B001EYV690', 'B004EYSMGW', 'B0029F21LA', 'B007WTAJTO']\n",
      "A3VXN9CNH3YWHK ['B006UMMPGE']\n",
      "A2G84LH2M53W5S ['B004S4R5CK', 'B007ADFKAK']\n",
      "A336NN57HXAVYV ['B00JRULWM4', 'B002BW0MNU', 'B007QUBYDY', 'B0088IA9PC', 'B0072XQILS']\n",
      "A1LK8RLNN0SM6U ['B002T1OJZU']\n",
      "AQUQ2COYD2SCD ['B001PTH0VW', 'B009WSCW4S']\n",
      "A2TZ522I20976Z ['B004SD1XB0']\n",
      "AQT9BS27RWRWZ ['B0047DVRQW']\n",
      "ADE6RHHG0SWWM ['B001B077PO', 'B004S4R5CK', 'B00006HVT4', 'B000KZW9WM', 'B0000510ZO']\n",
      "A1087JNYKPB1NR ['B00B9996LA']\n",
      "AAZSMHH6LZIU0 ['B000UOMGU8']\n",
      "A3IWHS6BZL9RLA ['B0002IOIMQ', 'B003M5GVJY']\n",
      "A2QQ5043U6WPZ2 ['B0030MITDK', 'B000BP8AY2', 'B002T1OJZU', 'B0089ZV1WY', 'B000VX6XL6']\n",
      "A3KX18HG5IBIH8 ['B001CIREXA']\n",
      "A148B1FCSA1R4O ['B007R5YDYA']\n",
      "A28CET4RARH72W ['B00D029NNA']\n",
      "A3RYMM0MULVV23 ['B0043XZEEC']\n",
      "A3F7HQC92ECMMQ ['B0002SQ2P2']\n",
      "A1OGABPYBDGMO3 ['B00CRXZPA8', 'B003N8GVUY', 'B004TGY58E', 'B002WE6D44', 'B006LPRXJE']\n",
      "A1TY7X3V71TDIT ['B004RDWVUS']\n",
      "A2QPFZGUE620VD ['B00004ZCJE', 'B0058BG0UK']\n",
      "AHHQKYZDQZXLD ['B001HEI5PA']\n",
      "A1ULHFWWYP8SMY ['B0092IBMB2']\n",
      "A3FD6PPAC0BYFK ['B00B46XUQU', 'B000EG5ULO', 'B007XOQ3BQ']\n",
      "A1W4GTQHI35BBS ['B00E055H5O', 'B00007E7C8']\n",
      "AQWJV15BG4RK2 ['B0049O8TXS']\n",
      "A39SCU7KSK7330 ['B003CKC8W8']\n",
      "A2PYFCE9K2WH1D ['B005LFT3GG', 'B005PSTV2K']\n",
      "A3SPUDGPZ4SAN3 ['B004TJ6JH6']\n",
      "A3KPMEV0TA83FR ['B001HN6CVA']\n",
      "A1GYDCCJW8CORK ['B0047I5TP2']\n",
      "A2QP887FD1CJN8 ['B0049WDMBO', 'B000M2TAN4', 'B000E6NGBU']\n",
      "A3COAKU88G8FM0 ['B009X3UW2G', 'B00JTI4X3E']\n",
      "AXBFFL63BG8J3 ['B001PS9UKW', 'B00695LU5O', 'B0078LSTWU']\n",
      "A36OKXRGLXI6NG ['B002GHIPYI']\n",
      "A18OCMWLQ03TYQ ['B007ORX8ME']\n",
      "A2JY80K81J09FQ ['B0012QN3AA']\n",
      "A2KSVTTIJPLVB9 ['B004M8SBNE']\n",
      "A2J7F3F1EMMFIX ['B0074BW614', 'B006GWO5WK']\n",
      "A1IS18B38576CS ['B0067US1R6', 'B003DSCU72']\n"
     ]
    }
   ],
   "source": [
    "# Print the recommended items for first 50 user\n",
    "count=0\n",
    "for uid, user_ratings in top_n.items():\n",
    "    print(uid, [iid for (iid, _) in user_ratings])\n",
    "    if(count>49):\n",
    "        break\n",
    "    count=count+1"
   ]
  },
  {
   "cell_type": "markdown",
   "metadata": {},
   "source": [
    "#### Thus we can notice\n",
    "* For User :A359EJJXW154UD  \n",
    "* Recommendation : ['B000M2TAN4', 'B000FGI970', 'B0041OSQ9I', 'B00005LEN4', 'B000ZMCILW']\n",
    "\n",
    "* There are many Users which having less then 5 Reccomendation that occurs because those products have missing ratings via users.\n",
    "* so people having less then 5 recommendations, we will feed in product based on Popularity Based Recommendation."
   ]
  }
 ],
 "metadata": {
  "kernelspec": {
   "display_name": "Python 3",
   "language": "python",
   "name": "python3"
  },
  "language_info": {
   "codemirror_mode": {
    "name": "ipython",
    "version": 3
   },
   "file_extension": ".py",
   "mimetype": "text/x-python",
   "name": "python",
   "nbconvert_exporter": "python",
   "pygments_lexer": "ipython3",
   "version": "3.6.4"
  }
 },
 "nbformat": 4,
 "nbformat_minor": 4
}
